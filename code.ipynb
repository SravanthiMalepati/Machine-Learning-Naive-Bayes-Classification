{
 "cells": [
  {
   "cell_type": "code",
   "execution_count": 17,
   "metadata": {},
   "outputs": [
    {
     "name": "stdout",
     "output_type": "stream",
     "text": [
      "Requirement already satisfied: nltk in /Applications/anaconda3/lib/python3.7/site-packages (3.4.5)\n",
      "Requirement already satisfied: six in /Applications/anaconda3/lib/python3.7/site-packages (from nltk) (1.12.0)\n",
      "Note: you may need to restart the kernel to use updated packages.\n"
     ]
    }
   ],
   "source": [
    "pip install nltk"
   ]
  },
  {
   "cell_type": "code",
   "execution_count": 2,
   "metadata": {},
   "outputs": [
    {
     "name": "stderr",
     "output_type": "stream",
     "text": [
      "[nltk_data] Downloading package stopwords to\n",
      "[nltk_data]     /Users/sravanthimalepati/nltk_data...\n",
      "[nltk_data]   Package stopwords is already up-to-date!\n"
     ]
    }
   ],
   "source": [
    "import pandas as pd\n",
    "import numpy as np\n",
    "import nltk\n",
    "nltk.download('stopwords')\n",
    "from nltk.corpus import stopwords\n",
    "from string import punctuation\n",
    "import string\n",
    "from collections import Counter, defaultdict\n",
    "import math\n",
    "from sklearn.metrics import accuracy_score"
   ]
  },
  {
   "cell_type": "markdown",
   "metadata": {},
   "source": [
    "# Train a Naïve Bayes classifier for sentiment analysis of Amazon users reviews for refurbished iPhone 7. You are given:\n",
    "\n",
    "1)\tTraining set that consists of 6 positive reviews and 4 negative reviews \n",
    "\n",
    "2)\tA set of 4 keywords: Great, Happy, Bad, Return. Those keywords should define 4-dimensional feature vectors for reviews (bag-of-words)\n",
    "\n",
    "3)\tTest set that consists of 2 reviews\n",
    "\n",
    "\n",
    "So I have stored the given reviews in a excel file and reading it as follows.\n"
   ]
  },
  {
   "cell_type": "code",
   "execution_count": 3,
   "metadata": {},
   "outputs": [],
   "source": [
    "df = pd.read_excel('data.xlsx')\n",
    "vocab = Counter()"
   ]
  },
  {
   "cell_type": "code",
   "execution_count": 4,
   "metadata": {},
   "outputs": [
    {
     "data": {
      "text/html": [
       "<div>\n",
       "<style scoped>\n",
       "    .dataframe tbody tr th:only-of-type {\n",
       "        vertical-align: middle;\n",
       "    }\n",
       "\n",
       "    .dataframe tbody tr th {\n",
       "        vertical-align: top;\n",
       "    }\n",
       "\n",
       "    .dataframe thead th {\n",
       "        text-align: right;\n",
       "    }\n",
       "</style>\n",
       "<table border=\"1\" class=\"dataframe\">\n",
       "  <thead>\n",
       "    <tr style=\"text-align: right;\">\n",
       "      <th></th>\n",
       "      <th>y</th>\n",
       "      <th>review</th>\n",
       "    </tr>\n",
       "  </thead>\n",
       "  <tbody>\n",
       "    <tr>\n",
       "      <td>0</td>\n",
       "      <td>1</td>\n",
       "      <td>I’ve seen a lot of bad reviews for this phone ...</td>\n",
       "    </tr>\n",
       "    <tr>\n",
       "      <td>1</td>\n",
       "      <td>1</td>\n",
       "      <td>This phone looks and performs great like it's ...</td>\n",
       "    </tr>\n",
       "    <tr>\n",
       "      <td>2</td>\n",
       "      <td>1</td>\n",
       "      <td>Don't listen to bad reviews! My phone arrived ...</td>\n",
       "    </tr>\n",
       "    <tr>\n",
       "      <td>3</td>\n",
       "      <td>1</td>\n",
       "      <td>Love this phone! I am so glad I bought a refur...</td>\n",
       "    </tr>\n",
       "    <tr>\n",
       "      <td>4</td>\n",
       "      <td>1</td>\n",
       "      <td>First, seller did a great job and I think I go...</td>\n",
       "    </tr>\n",
       "    <tr>\n",
       "      <td>5</td>\n",
       "      <td>1</td>\n",
       "      <td>Received prompt delivery of the phone. I inser...</td>\n",
       "    </tr>\n",
       "    <tr>\n",
       "      <td>6</td>\n",
       "      <td>0</td>\n",
       "      <td>Overall, the phone isn't too bad for the price...</td>\n",
       "    </tr>\n",
       "    <tr>\n",
       "      <td>7</td>\n",
       "      <td>0</td>\n",
       "      <td>The iPhone 7 I purchased was \"certified refurb...</td>\n",
       "    </tr>\n",
       "    <tr>\n",
       "      <td>8</td>\n",
       "      <td>0</td>\n",
       "      <td>Initially I was happy with the phone. It looke...</td>\n",
       "    </tr>\n",
       "    <tr>\n",
       "      <td>9</td>\n",
       "      <td>0</td>\n",
       "      <td>Be cautious - if you have ANY issues at all, r...</td>\n",
       "    </tr>\n",
       "  </tbody>\n",
       "</table>\n",
       "</div>"
      ],
      "text/plain": [
       "   y                                             review\n",
       "0  1  I’ve seen a lot of bad reviews for this phone ...\n",
       "1  1  This phone looks and performs great like it's ...\n",
       "2  1  Don't listen to bad reviews! My phone arrived ...\n",
       "3  1  Love this phone! I am so glad I bought a refur...\n",
       "4  1  First, seller did a great job and I think I go...\n",
       "5  1  Received prompt delivery of the phone. I inser...\n",
       "6  0  Overall, the phone isn't too bad for the price...\n",
       "7  0  The iPhone 7 I purchased was \"certified refurb...\n",
       "8  0  Initially I was happy with the phone. It looke...\n",
       "9  0  Be cautious - if you have ANY issues at all, r..."
      ]
     },
     "execution_count": 4,
     "metadata": {},
     "output_type": "execute_result"
    }
   ],
   "source": [
    "df"
   ]
  },
  {
   "cell_type": "markdown",
   "metadata": {},
   "source": [
    "# Here \"1\" is for positive reviews and \"0\" is for negative reviews."
   ]
  },
  {
   "cell_type": "markdown",
   "metadata": {},
   "source": [
    "Removing stopwords process is as follows"
   ]
  },
  {
   "cell_type": "code",
   "execution_count": 5,
   "metadata": {},
   "outputs": [
    {
     "name": "stdout",
     "output_type": "stream",
     "text": [
      "['seen', 'lot', 'bad', 'reviews', 'phone', 'based', 'issues', 'seller', 'Granted', 'reviews', 'say', 'took', 'weeks', 'problems', 'appear', 'edit', 'happens', 'wow', 'happy', 'got', 'Not', 'come', 'charger', 'debate', 'reviews', 'even', 'clear', 'bumper', 'case', 'That', 'neither', 'expected', 'necessary', 'appreciated', 'bought', 'Unicorn', 'Beetle', 'case', 'used', 'loved', 'phones', 'There', 'scratch', 'phone', 'started', 'working', 'right', 'away', 'The', 'battery', 'seems', 'holding', 'fine', 'All', 'say', 'seems', 'like', 'steal', 'If', 'self', 'destructs', 'next', 'weeks', 'update', 'UPDATE', 'Its', 'months', 'trip', 'overseas', 'since', 'wrote', 'initial', 'review', 'remains', 'solid', 'decision', 'Im', 'happy']\n"
     ]
    }
   ],
   "source": [
    "dc = df['review'][0]\n",
    "tokens = dc.split()\n",
    "#print(tokens)\n",
    "# remove punctuation from each token\n",
    "table = str.maketrans('', '', punctuation)\n",
    "#print(table)\n",
    "tokens = [w.translate(table) for w in tokens]\n",
    "# remove remaining tokens that are not alphabetic\n",
    "tokens = [word for word in tokens if word.isalpha()]\n",
    "# filter out stop words\n",
    "stop_words = set(stopwords.words('english'))\n",
    "tokens = [w for w in tokens if not w in stop_words]\n",
    "# filter out short tokens\n",
    "tokens = [word for word in tokens if len(word) > 1]\n",
    "print(tokens)"
   ]
  },
  {
   "cell_type": "code",
   "execution_count": 9,
   "metadata": {},
   "outputs": [],
   "source": [
    "class funa:\n",
    "\n",
    "    def __init__(self, y):\n",
    "        self.classes = y\n",
    "\n",
    "    def group_by_class(self, X, y):\n",
    "        data = dict()\n",
    "        for c in self.classes:\n",
    "            data[c] = X[np.where(y == c)]\n",
    "        return data\n",
    "\n",
    "    \n",
    "    def tokenize(self, text):\n",
    "        tokens = text.split()\n",
    "        # remove punctuation from each token\n",
    "        table = str.maketrans('', '', punctuation)\n",
    "        tokens = [w.translate(table) for w in tokens]\n",
    "        # remove remaining tokens that are not alphabetic\n",
    "        tokens = [word for word in tokens if word.isalpha()]\n",
    "        # filter out stop words\n",
    "        stop_words = set(stopwords.words('english'))\n",
    "        tokens = [w for w in tokens if not w in stop_words]\n",
    "        # filter out short tokens\n",
    "        tokens = [word for word in tokens if len(word) > 1]\n",
    "        return tokens\n",
    "\n",
    "\n",
    "    def laplace_smoothing(self, word, text_class):\n",
    "        num = self.word_counts[text_class][word] + 1\n",
    "        denom = self.n_class_items[text_class] + len(self.vocab)\n",
    "        return math.log(num / denom)\n",
    "\n",
    "    def fit(self, X, y):\n",
    "        self.n_class_items = {}\n",
    "        self.log_class_priors = {}\n",
    "        self.word_counts = {}\n",
    "        self.vocab = set()\n",
    "\n",
    "        n = len(X)\n",
    "        grouped_data = self.group_by_class(X, y)\n",
    "        for c, data in grouped_data.items():\n",
    "            self.n_class_items[c] = len(data)\n",
    "            self.log_class_priors[c] = math.log(self.n_class_items[c] / n)\n",
    "            self.word_counts[c] = defaultdict(lambda: 0)\n",
    "\n",
    "            for text in data:\n",
    "                counts = Counter(self.tokenize(text))\n",
    "                for word, count in counts.items():\n",
    "                    if word not in self.vocab:\n",
    "                        self.vocab.add(word)\n",
    "\n",
    "                    self.word_counts[c][word] += count\n",
    "    def predict(self, X):\n",
    "        result = []\n",
    "        for text in X:\n",
    "            class_scores = {c: self.log_class_priors[c] for c in self.classes}\n",
    "            words = set(self.tokenize(text))\n",
    "\n",
    "            for word in words:\n",
    "                if word not in self.vocab: continue\n",
    "\n",
    "                for c in self.classes:\n",
    "\n",
    "                    log_w_given_c = self.laplace_smoothing(word, c)\n",
    "                    class_scores[c] += log_w_given_c\n",
    "    \n",
    "\n",
    "            result.append(max(class_scores, key=class_scores.get))\n",
    "        print(result)\n",
    "        return result"
   ]
  },
  {
   "cell_type": "code",
   "execution_count": 10,
   "metadata": {
    "tags": []
   },
   "outputs": [],
   "source": [
    "v = funa(np.unique(df['y']))\n",
    "v.fit(df['review'].values,df['y'].values)"
   ]
  },
  {
   "cell_type": "markdown",
   "metadata": {},
   "source": [
    "# Predicting the given 2 test reviews with the trained naive bayes model"
   ]
  },
  {
   "cell_type": "code",
   "execution_count": 11,
   "metadata": {},
   "outputs": [],
   "source": [
    "gd= [\"\"\"The phone arrived in pretty decent condition. The front screen was scratch-free and the display is great, but there is a long scratch on the back of the phone. This doesn't bother me much because I always have a case on my phone. However, the issue with this phone is that the cellular signal won't work; the device detects the sim but the signal is bad. Apparently this is an issue with some iPhone 7 models, but the any free of charge repair is not valid because the phone is coming from a third party seller. After speaking with Apple, Verizon (my mobile carrier), AND Amazon, I've reached the conclusion that the issue is with the phone. I've tried everything to troubleshoot, but I will unfortunately have to return the item and get another one.\"\"\", \"\"\"iPhone 7 Black came in excellent condition. Like new. No scratches or scuffs. Works great. Was happy for couple months until phone started to develop issues with hearing callers and vs versa. Callers can’t hear me and I can’t hear callers, the sound is bad. Checked settings . Disabled WiFi calling. Hard reset phone. Updated iOS. Happens randomly. Suspect possible known defects on iPhone 7 with audio IC chips. I want to return the phone but I’m waiting to se for a month\"\"\"]"
   ]
  },
  {
   "cell_type": "code",
   "execution_count": 12,
   "metadata": {
    "tags": []
   },
   "outputs": [
    {
     "name": "stdout",
     "output_type": "stream",
     "text": [
      "[1, 1]\n",
      "[1, 1]\n"
     ]
    }
   ],
   "source": [
    "y_hat = v.predict(gd)\n",
    "print(y_hat)"
   ]
  }
 ],
 "metadata": {
  "kernelspec": {
   "display_name": "Python 3",
   "language": "python",
   "name": "python3"
  },
  "language_info": {
   "codemirror_mode": {
    "name": "ipython",
    "version": 3
   },
   "file_extension": ".py",
   "mimetype": "text/x-python",
   "name": "python",
   "nbconvert_exporter": "python",
   "pygments_lexer": "ipython3",
   "version": "3.7.4"
  }
 },
 "nbformat": 4,
 "nbformat_minor": 2
}
